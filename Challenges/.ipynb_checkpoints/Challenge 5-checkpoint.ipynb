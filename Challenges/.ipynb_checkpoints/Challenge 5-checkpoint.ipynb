{
 "cells": [
  {
   "cell_type": "markdown",
   "metadata": {},
   "source": [
    "### Challenge 5 - Model Deployment:\n",
    "\n",
    "- Deploy the team’s saved model from Challenge 3 or Challenge 4 as a real-time web service on Azure.\n",
    "- Use one of the following tools to deploy the model as and API to which data may be sent (e.g.arrays or json) and a json response received:\n",
    "\t-  Azure Machine Learning CLI standalone with Azure Model Management\n",
    "\t-  Non-CLI methods, e.g. Flask with Docker\n",
    "    \n",
    "NOTE: json-serialized image would work well.\n",
    "\n",
    "##### Prerequisites:\n",
    "- Docker engine (Docker for Windows or Docker for Mac) installed and running locally or on a VM\n",
    "- Azure CLI and Azure ML CLI (azure-cli and azure-cli-ml packages)\n",
    "- Tooling such as the curl command line tool or Postman to send a request to your model endpoint\n",
    "- Saved model from Challenge 3!\n",
    "\n",
    "##### Success Criteria:\n",
    "Demonstrate with curl or Postman that sending an image, via a URL or serialized, to your cloud deployed web service returns the model output - the class of gear!\n"
   ]
  }
 ],
 "metadata": {
  "kernelspec": {
   "display_name": "Python 3",
   "language": "python",
   "name": "python3"
  },
  "language_info": {
   "codemirror_mode": {
    "name": "ipython",
    "version": 3
   },
   "file_extension": ".py",
   "mimetype": "text/x-python",
   "name": "python",
   "nbconvert_exporter": "python",
   "pygments_lexer": "ipython3",
   "version": "3.7.0"
  }
 },
 "nbformat": 4,
 "nbformat_minor": 2
}
