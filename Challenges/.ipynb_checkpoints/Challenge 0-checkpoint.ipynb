{
 "cells": [
  {
   "cell_type": "markdown",
   "metadata": {},
   "source": [
    "# Environment Setup\n",
    "\n",
    "### Prerequisite Tools:\n",
    "\t• Python 3.5\n",
    "\t• Jupyter or JupyterHub access\n",
    "    • pip (Python package manager)\n",
    "    • Azure ML CLI (https://docs.microsoft.com/en-us/azure/machine-learning/desktop-workbench/deployment-setup-configuration?wt.mc_id=OH-ML-ComputerVision)\n",
    "\n",
    "### Environment Options:\n",
    "1) Azure Ubuntu Data Science Virtual Machine:\n",
    "\t• Size: DS12 v2 Standard (4 cores / 28.00 GiB RAM / 56 GiB Temporary Storage) - may show up as CSP\n",
    "\t• Region: (Ask your coach for the appropriate region for your OpenHack)\n",
    "\t\n",
    "2) Your Local Machine (In case you got a nice GPU):\n",
    "    • Install all the mentioned prerequisite tools on your local machine. (Feel free to ask your coach how to install the tools)\n",
    "    \n",
    "### Training/Testing Data Set:\n",
    "! curl -O https://libertyrgdiag621.blob.core.windows.net/bootdiagnostics-libertyvm-40b1c549-fc4e-4153-82ba-2e3cd01b3a7b/dataset-images.zip"
   ]
  },
  {
   "cell_type": "markdown",
   "metadata": {},
   "source": [
    "# Success Criteria\n",
    "\n",
    "### Run 2 code cells, one with each of the following command blocks to ensure successful setup."
   ]
  },
  {
   "cell_type": "code",
   "execution_count": 7,
   "metadata": {},
   "outputs": [
    {
     "ename": "IndentationError",
     "evalue": "unexpected indent (<ipython-input-7-7dc2ef5b81b0>, line 4)",
     "output_type": "error",
     "traceback": [
      "\u001b[1;36m  File \u001b[1;32m\"<ipython-input-7-7dc2ef5b81b0>\"\u001b[1;36m, line \u001b[1;32m4\u001b[0m\n\u001b[1;33m    get_ipython().system(' /anaconda/envs/py35/bin/python -m pip freeze')\u001b[0m\n\u001b[1;37m    ^\u001b[0m\n\u001b[1;31mIndentationError\u001b[0m\u001b[1;31m:\u001b[0m unexpected indent\n"
     ]
    }
   ],
   "source": [
    "#Code Cell 1:\n",
    "\n",
    "#On a Data Science Virtual Machine:\n",
    "  ! /anaconda/envs/py35/bin/python -m pip freeze\n",
    "  ! /anaconda/envs/py35/bin/python -m pip --version\n",
    "\n",
    "#Or if on a Local Setup:\n",
    "  ! pip freeze\n",
    "  ! pip --version"
   ]
  },
  {
   "cell_type": "code",
   "execution_count": null,
   "metadata": {},
   "outputs": [],
   "source": [
    "# Code cell 2\n",
    "#Run this Python code:\n",
    "  import sys\n",
    "  sys.version"
   ]
  }
 ],
 "metadata": {
  "kernelspec": {
   "display_name": "Python 3",
   "language": "python",
   "name": "python3"
  },
  "language_info": {
   "codemirror_mode": {
    "name": "ipython",
    "version": 3
   },
   "file_extension": ".py",
   "mimetype": "text/x-python",
   "name": "python",
   "nbconvert_exporter": "python",
   "pygments_lexer": "ipython3",
   "version": "3.7.0"
  }
 },
 "nbformat": 4,
 "nbformat_minor": 2
}
