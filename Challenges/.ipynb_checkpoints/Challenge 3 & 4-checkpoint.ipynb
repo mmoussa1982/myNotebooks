{
 "cells": [
  {
   "cell_type": "markdown",
   "metadata": {},
   "source": [
    "### Challenge 3 -  Custom Tradional Machine Learning:\n",
    "\n",
    "Use a non-parametric classification method to create a model to predict the class of a new gear image, training on the preprocessed 128x128x3 gear data from Challenge 2. \n",
    "\n",
    "The algorithm should be chosen from “off-the-shelf” non-parametric algorithms for classification found in the scikit-learn library.\n",
    "\n",
    "Split the processed data into a train and test data set in order to train a machine learning model and calculate the accuracy of that model. In order to optimize model quality, the training data set is usually much larger than the test set while still leaving enough data to adequately test the model.\n",
    "\n",
    "##### Perform the following as a team:\n",
    "- Split the preprocessed image array data from Challenge 2 into train and test sets\n",
    "- Choose an algorithm from scikit-learn documentation\n",
    "- Train the model with the training data from the split\n",
    "- Predict the class of the following piece of gear with the model: here\n",
    "- Evaluate the model with a confusion matrix to see how individual classes performed (use test data from the split)\n",
    "- Output the overall accuracy (use test data from the split)\n",
    "\n",
    "##### Prerequisites:\n",
    "- Preprocessed Gear image data from Challenge 2\n",
    "- An installation of the Python package called scikit-learn - check if it is installed and update it to the lastest or simply install. [Link](http://scikit-learn.org/stable/index.html)\n",
    "\n",
    "##### Success Criteria:\n",
    "- The team will run one code cell in a Jupyter notebook for the coach predicting the class successfully of a piece of gear in the provided URL above.\n",
    "- The team will run one code cell in a Jupyter notebook for the coach showing the accuracy score on the test data from the split. This score should be above 80%."
   ]
  },
  {
   "cell_type": "markdown",
   "metadata": {},
   "source": [
    "### Challenge 4 - Deep Learning:\n",
    "\n",
    "Create a Convolutional Neural Network (a deep learning architecture) to classify the gear data. The architecture or design should contain the following types of layers.\n",
    "\n",
    "Suggested architecture:\n",
    "\t1. Input Layer (3 channel image input layer)\n",
    "\t2. Convolutional (2D)\n",
    "\t3. Max Pooling\n",
    "\t4. Convolutional (2D)\n",
    "\t5. Max Pooling\n",
    "\t6. Dense (Output layer)\n",
    "\n",
    "NOTE: Training a Deep Learning model is faster on a GPU machine. If the team setup does not already include GPU, consider working with your coach to adjust the setup before proceeding.\n",
    "\n",
    "Train a model on the training dataset using the suggested architecture or an equivalent that the team wishes to try. The team will utilize a portion of their training dataset as a validation dataset. The team may have to iterate on the architecture. Make sure the best trained model is saved to disk.\n",
    "\n",
    "##### Prerequisites:\n",
    "\n",
    "Team decides which deep learning framework to use in this Challenge from the following:\n",
    "- Keras (an abstraction layer that uses TensorFlow or CNTK on the backend) [Check it out](https://keras.io/)\n",
    "- TensorFlow [Check it out](https://www.tensorflow.org/)\n",
    "- CNTK [check it out](https://www.microsoft.com/en-us/cognitive-toolkit/)\n",
    " \n",
    "Team performs any installs or updates to the latest versions of frameworks in their chosen setup!\n",
    "\n",
    "##### Success Criteria:\n",
    "- Team will run a code cell in a Jupyter notebook for the coach that shows the model accuracy is 90% or greater (using the test data set from Challenge 3)\n",
    "- Team will show logging that demonstrates validation accuracy that reaches 90% (using the validation dataset created in this challenge)"
   ]
  },
  {
   "cell_type": "code",
   "execution_count": null,
   "metadata": {},
   "outputs": [],
   "source": []
  }
 ],
 "metadata": {
  "kernelspec": {
   "display_name": "Python 3",
   "language": "python",
   "name": "python3"
  },
  "language_info": {
   "codemirror_mode": {
    "name": "ipython",
    "version": 3
   },
   "file_extension": ".py",
   "mimetype": "text/x-python",
   "name": "python",
   "nbconvert_exporter": "python",
   "pygments_lexer": "ipython3",
   "version": "3.7.0"
  }
 },
 "nbformat": 4,
 "nbformat_minor": 2
}
