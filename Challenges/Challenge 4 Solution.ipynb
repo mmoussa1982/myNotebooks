{
 "cells": [
  {
   "cell_type": "code",
   "execution_count": 1,
   "metadata": {},
   "outputs": [],
   "source": [
    "%matplotlib inline\n",
    "\n",
    "import numpy as np\n",
    "import tensorflow as tf\n",
    "import time\n",
    "import matplotlib.pyplot as plt\n",
    "import pprint\n",
    "pp = pprint.PrettyPrinter(indent=4)\n",
    "from sklearn.model_selection import train_test_split"
   ]
  },
  {
   "cell_type": "code",
   "execution_count": null,
   "metadata": {},
   "outputs": [],
   "source": []
  },
  {
   "cell_type": "code",
   "execution_count": 38,
   "metadata": {},
   "outputs": [
    {
     "name": "stdout",
     "output_type": "stream",
     "text": [
      "number of samples:  2112\n",
      "Image Shape: (128, 128, 3)\n",
      "Labels:  ['axes' 'boots' 'carabiners' 'crampons' 'gloves' 'hardshell_jackets'\n",
      " 'harnesses' 'helmets' 'insulated_jackets' 'pulleys' 'rope' 'tents']\n"
     ]
    }
   ],
   "source": [
    "outputdir = 'D:/MyWorx/Courses/PAF Bootcamp/Challenges/Images/output'\n",
    "imagesdata = np.load(outputdir+'/'+'images.npy')\n",
    "\n",
    "print('number of samples: ', len(imagesdata))\n",
    "print('Image Shape:',imagesdata[:,0][0].shape)\n",
    "print('Labels: ', np.unique(imagesdata[:,1]))"
   ]
  },
  {
   "cell_type": "code",
   "execution_count": 46,
   "metadata": {},
   "outputs": [],
   "source": [
    "# Parameter definitions\n",
    "batch_size = 100\n",
    "learning_rate = 0.005\n",
    "max_steps = 1000"
   ]
  },
  {
   "cell_type": "code",
   "execution_count": 49,
   "metadata": {},
   "outputs": [
    {
     "name": "stdout",
     "output_type": "stream",
     "text": [
      "(2112, 49152)\n",
      "(1689, 49152)\n",
      "(1689,)\n"
     ]
    }
   ],
   "source": [
    "Images = imagesdata[:,0]\n",
    "Labels = imagesdata[:,1]\n",
    "classes = np.unique(imagesdata[:,1])\n",
    "\n",
    "reshapedImages = []\n",
    "for img in Images:\n",
    "    img = np.reshape(img,49152)\n",
    "    reshapedImages.append(img)\n",
    "    \n",
    "Images = np.array(reshapedImages)\n",
    "print(Images.shape)\n",
    "for x in range(12):\n",
    "    Labels[Labels == classes[x]] = x\n",
    "\n",
    "images_train, images_test,labels_train,labels_test = train_test_split(Images,Labels,test_size=0.2\n",
    "                                                                     ,shuffle=True,random_state=42)\n",
    "\n",
    "print(images_train.shape)\n",
    "print(labels_train.shape)"
   ]
  },
  {
   "cell_type": "code",
   "execution_count": 50,
   "metadata": {},
   "outputs": [],
   "source": [
    "#Data Points PlaceHolders (128x128x3)\n",
    "images_placeholder = tf.placeholder(tf.float32, shape=[None, 49152])\n",
    "labels_placeholder = tf.placeholder(tf.int64, shape=[None])\n",
    "\n",
    "# Define variables (these are the values we want to optimize)\n",
    "\n",
    "weights = tf.Variable(tf.zeros([49152, 12]))\n",
    "biases = tf.Variable(tf.zeros([12]))"
   ]
  },
  {
   "cell_type": "markdown",
   "metadata": {},
   "source": [
    "### Building the Model"
   ]
  },
  {
   "cell_type": "code",
   "execution_count": 51,
   "metadata": {},
   "outputs": [],
   "source": [
    "# Define loss function\n",
    "logits = tf.matmul(images_placeholder, weights) + biases\n",
    "loss=tf.reduce_mean(tf.nn.sparse_softmax_cross_entropy_with_logits(logits=logits,labels=labels_placeholder))\n",
    "\n",
    "# Define training operation\n",
    "train_step = tf.train.GradientDescentOptimizer(learning_rate).minimize(loss)\n",
    "\n",
    "# Operation comparing prediction with true label\n",
    "\n",
    "correct_prediction = tf.equal(tf.argmax(logits, 1), labels_placeholder)\n",
    "\n",
    "# Operation calculating the accuracy of our predictions\n",
    "accuracy = tf.reduce_mean(tf.cast(correct_prediction, tf.float32))\n"
   ]
  },
  {
   "cell_type": "code",
   "execution_count": 52,
   "metadata": {},
   "outputs": [
    {
     "name": "stdout",
     "output_type": "stream",
     "text": [
      "Step     0: training accuracy 0.03\n",
      "Step   100: training accuracy 0.47\n",
      "Step   200: training accuracy 0.75\n",
      "Step   300: training accuracy 0.83\n",
      "Step   400: training accuracy 0.8\n",
      "Step   500: training accuracy 0.8\n",
      "Step   600: training accuracy 0.87\n",
      "Step   700: training accuracy 0.86\n",
      "Step   800: training accuracy 0.88\n",
      "Step   900: training accuracy 0.83\n",
      "Test accuracy 0.775414\n"
     ]
    }
   ],
   "source": [
    "# Run the TensorFlow graph\n",
    "with tf.Session() as sess:\n",
    "    # Initialize variables\n",
    "    sess.run(tf.global_variables_initializer())\n",
    "    # Repeat max_steps times\n",
    "    for i in range(max_steps):\n",
    "        indices = np.random.choice(images_train.shape[0], batch_size)\n",
    "        images_batch = images_train[indices]\n",
    "        labels_batch = labels_train[indices]\n",
    "        \n",
    "        if i % 100 == 0:\n",
    "            train_accuracy = sess.run(accuracy, feed_dict={\n",
    "                images_placeholder: images_batch, labels_placeholder: labels_batch})\n",
    "            print('Step {:5d}: training accuracy {:g}'.format(i, train_accuracy))\n",
    "        \n",
    "        sess.run(train_step, feed_dict={images_placeholder: images_batch,\n",
    "                                        labels_placeholder: labels_batch})\n",
    "    test_accuracy = sess.run(accuracy, feed_dict={\n",
    "        images_placeholder: images_test,\n",
    "        labels_placeholder: labels_test})\n",
    "    print('Test accuracy {:g}'.format(test_accuracy))\n",
    "    "
   ]
  },
  {
   "cell_type": "code",
   "execution_count": null,
   "metadata": {},
   "outputs": [],
   "source": [
    "import pickle\n",
    "\n",
    "pkl_filename = outputdir+'/'+'taditionalImageClassification.pkl'\n",
    "with open(pkl_filename, 'wb') as file: \n",
    "    savedmodel = pickle.dump(sgd_clf,file)"
   ]
  }
 ],
 "metadata": {
  "kernelspec": {
   "display_name": "Python 3",
   "language": "python",
   "name": "python3"
  },
  "language_info": {
   "codemirror_mode": {
    "name": "ipython",
    "version": 3
   },
   "file_extension": ".py",
   "mimetype": "text/x-python",
   "name": "python",
   "nbconvert_exporter": "python",
   "pygments_lexer": "ipython3",
   "version": "3.6.5"
  }
 },
 "nbformat": 4,
 "nbformat_minor": 2
}
