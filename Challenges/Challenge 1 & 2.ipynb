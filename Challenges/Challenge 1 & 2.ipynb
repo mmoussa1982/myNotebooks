{
 "cells": [
  {
   "cell_type": "markdown",
   "metadata": {},
   "source": [
    "\n",
    "### Challenge 1 - Cognitive Services (Custom Vision):\n",
    "Create an image classification model to predict whether an image is a hardshell jacket or an insulated jacket using a portion of the jacket data in the gear catalog images. When the model is trained, call the prediction endpoint using Python and a Jupyter Notebook to predict the class of an image not used in training.\n",
    "\n",
    "##### Prerequisite Account:\n",
    "[Create Custom Vision Account from here](https://customvision.ai/)\n",
    "\n",
    "##### Success Criteria:\n",
    "Each team member can call the team’s Custom Vision prediction endpoint from a Jupyter Notebook to predict the class of a jacket image not used in training and show a successful response."
   ]
  },
  {
   "cell_type": "markdown",
   "metadata": {},
   "source": [
    "### Challenge 2 - Creating Quality Data Set:\n",
    "Transform all the classes of the images you have in the data set into a particular format that can be used later on: 128x128x3 pixels (this means a 3-channel, 128x128 pixel square image; simply stretching the images is not allowed).\n",
    "\n",
    "\n",
    "##### Perform the following:\n",
    "\t• Pick a basic color, e.g. white, and pad all images that do not have 1:1 aspect ratio\n",
    "\t• Reshape, without stretching, to a 128x128x3 pixel array shape\n",
    "\t• Ensure for each image that the pixel range is from 0 to 255 (inclusive or [0, 255]) which is also called “contrast stretching”. \n",
    "    • Note: only one method is required\n",
    "\t• Save the data to disk in a format the team deems appropriate for easily reading back in. \n",
    "\t• Take into account when saving the data that it will be used for Classification.\n",
    "\t• Consider that numpy arrays are the common currency in Machine Learning frameworks\n",
    "    \n",
    "##### Hint:\n",
    "    • There are two ways of pixel-value stretching to be in the [0,255] range, or 0-255 inclusive -> Normalization and Equalization\n",
    "\n",
    "##### Very Useful Packages: \n",
    "[PIL](https://pillow.readthedocs.io/en/4.2.x/reference/ImageOps.html) & [numpy](http://www.scipy-lectures.org/advanced/image_processing/)\n",
    "\n",
    "##### Success Criteria: \n",
    "- The team will run one code cell in a Jupyter notebook for the coach plotting the original image and then plotting the padded and pixel-value normalized or equalized image.\n",
    "- The team will run one code cell in a Jupyter notebook for the coach that shows the histogram of the pixel values which should be in the range of 0 to 255, inclusive ([0, 255])."
   ]
  },
  {
   "cell_type": "code",
   "execution_count": null,
   "metadata": {},
   "outputs": [],
   "source": []
  },
  {
   "cell_type": "code",
   "execution_count": null,
   "metadata": {},
   "outputs": [],
   "source": []
  },
  {
   "cell_type": "code",
   "execution_count": null,
   "metadata": {},
   "outputs": [],
   "source": []
  }
 ],
 "metadata": {
  "kernelspec": {
   "display_name": "Python 3",
   "language": "python",
   "name": "python3"
  },
  "language_info": {
   "codemirror_mode": {
    "name": "ipython",
    "version": 3
   },
   "file_extension": ".py",
   "mimetype": "text/x-python",
   "name": "python",
   "nbconvert_exporter": "python",
   "pygments_lexer": "ipython3",
   "version": "3.6.5"
  }
 },
 "nbformat": 4,
 "nbformat_minor": 2
}
