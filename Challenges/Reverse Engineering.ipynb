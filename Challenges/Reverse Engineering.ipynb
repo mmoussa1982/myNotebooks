{
 "cells": [
  {
   "cell_type": "code",
   "execution_count": 1,
   "metadata": {},
   "outputs": [],
   "source": [
    "import numpy as np\n",
    "import pickle\n",
    "import sys"
   ]
  },
  {
   "cell_type": "code",
   "execution_count": 2,
   "metadata": {},
   "outputs": [],
   "source": [
    "def load_CIFAR10_batch(filename):\n",
    "  '''load data from single CIFAR-10 file'''\n",
    "\n",
    "  with open(filename, 'rb') as f:\n",
    "    if sys.version_info[0] < 3:\n",
    "      dict = pickle.load(f)\n",
    "    else:\n",
    "      dict = pickle.load(f, encoding='latin1')\n",
    "    x = dict['data']\n",
    "    y = dict['labels']\n",
    "    x = x.astype(float)\n",
    "    y = np.array(y)\n",
    "    return x, y"
   ]
  },
  {
   "cell_type": "code",
   "execution_count": 3,
   "metadata": {},
   "outputs": [],
   "source": [
    "## Load Data\n",
    "batchsDir = 'D:/MyWorx/Courses/PAF Bootcamp/Challenges/CIFAR'\n",
    "xs = []\n",
    "ys = []\n",
    "for i in range(1, 6):\n",
    "    filename = batchsDir+'/data_batch_' + str(i)\n",
    "    X, Y = load_CIFAR10_batch(filename)\n",
    "    xs.append(X)\n",
    "    ys.append(Y)\n"
   ]
  },
  {
   "cell_type": "code",
   "execution_count": 7,
   "metadata": {},
   "outputs": [
    {
     "name": "stdout",
     "output_type": "stream",
     "text": [
      "(50000, 3072)\n",
      "(50000,)\n"
     ]
    }
   ],
   "source": [
    "x_train = np.concatenate(xs)\n",
    "y_train = np.concatenate(ys)\n",
    "print(x_train.shape)\n",
    "print(y_train.shape)"
   ]
  },
  {
   "cell_type": "code",
   "execution_count": null,
   "metadata": {},
   "outputs": [],
   "source": []
  }
 ],
 "metadata": {
  "kernelspec": {
   "display_name": "Python 3",
   "language": "python",
   "name": "python3"
  },
  "language_info": {
   "codemirror_mode": {
    "name": "ipython",
    "version": 3
   },
   "file_extension": ".py",
   "mimetype": "text/x-python",
   "name": "python",
   "nbconvert_exporter": "python",
   "pygments_lexer": "ipython3",
   "version": "3.6.5"
  }
 },
 "nbformat": 4,
 "nbformat_minor": 2
}
